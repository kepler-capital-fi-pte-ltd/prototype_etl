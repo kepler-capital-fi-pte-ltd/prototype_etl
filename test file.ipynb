{
 "cells": [
  {
   "cell_type": "code",
   "execution_count": 1,
   "metadata": {},
   "outputs": [],
   "source": [
    "from classes.file_loading import *\n",
    "from classes.basic_processing import *\n",
    "from classes.advanced_processing import *"
   ]
  },
  {
   "cell_type": "code",
   "execution_count": 2,
   "metadata": {},
   "outputs": [],
   "source": [
    "#open the files in a single dataset\n",
    "files = FileLoading()"
   ]
  },
  {
   "cell_type": "code",
   "execution_count": 3,
   "metadata": {},
   "outputs": [],
   "source": [
    "#split excel files into individual csvs\n",
    "files.split_excel_files()"
   ]
  },
  {
   "cell_type": "code",
   "execution_count": 4,
   "metadata": {},
   "outputs": [],
   "source": [
    "#we can get a list of the csv files\n",
    "f = files.csv_files"
   ]
  },
  {
   "cell_type": "code",
   "execution_count": 5,
   "metadata": {},
   "outputs": [
    {
     "data": {
      "text/plain": [
       "0"
      ]
     },
     "execution_count": 5,
     "metadata": {},
     "output_type": "execute_result"
    }
   ],
   "source": [
    "#now we create a strategy to skip the header rows, in this one we just use the simple skip_missing strategy\n",
    "header_strat = FindHeader(f[55])\n",
    "header_strat.skip_missing()"
   ]
  },
  {
   "cell_type": "code",
   "execution_count": 6,
   "metadata": {},
   "outputs": [],
   "source": [
    "# now we create the datemaker function, this will be evaluated row by row.\n",
    "# In this case, we just take the year, for month we do the quarter by 4 and for the date we go with the\n",
    "# 31st of each month.\n",
    "datemaker = \"str(int(row['YEAR'])) +'-'+ str(int(row['QUARTER']*4)) +'-'+ '31'\""
   ]
  },
  {
   "cell_type": "code",
   "execution_count": 7,
   "metadata": {},
   "outputs": [],
   "source": [
    "#lets use our datemaker definition to create the date column for every file\n",
    "files.create_dates(header_strat, datemaker)"
   ]
  },
  {
   "cell_type": "code",
   "execution_count": 8,
   "metadata": {},
   "outputs": [
    {
     "name": "stdout",
     "output_type": "stream",
     "text": [
      "[0]\n"
     ]
    }
   ],
   "source": [
    "#now lets select just the columns that contain our indicators by dropping what we don't need\n",
    "cols = GetCols(files)\n",
    "cols.get_cols()\n",
    "cols.gui_choose_subset()\n",
    "cols.lock()"
   ]
  },
  {
   "cell_type": "code",
   "execution_count": 9,
   "metadata": {},
   "outputs": [
    {
     "name": "stdout",
     "output_type": "stream",
     "text": [
      "CPI10 deciml_date\n"
     ]
    }
   ],
   "source": [
    "#now we create the indicators - to show you how it works we start with just one\n",
    "new = Indicator(file='/home/robbie/Desktop/etl_process_optimisation/data/philly_fed/micro5/CPI10.csv',\n",
    "               value_col='CPI10')\n",
    "new.source=\"PhillyFed\"\n",
    "new.geoscope=\"USA\"\n",
    "new.uom = \"\"\n",
    "new.create_values()\n",
    "new.create_attribute(\"search_key\", \"{value_col}-{source}-{geoscope}\")"
   ]
  },
  {
   "cell_type": "code",
   "execution_count": 10,
   "metadata": {},
   "outputs": [
    {
     "name": "stdout",
     "output_type": "stream",
     "text": [
      "CPI10 deciml_date\n",
      "EMPB deciml_date\n",
      "PRPGDP20 deciml_date\n",
      "CPROFB deciml_date\n",
      "NGDPB deciml_date\n",
      "RCBIB deciml_date\n",
      "HOUSINGB deciml_date\n",
      "RR2_TBILL_PGDP_5 deciml_date\n",
      "STOCK10 deciml_date\n",
      "BOND10 deciml_date\n",
      "RR3_TBILL_PGDP_5 deciml_date\n",
      "RFEDGOVB deciml_date\n",
      "SPR_BAA_TBONDB deciml_date\n",
      "RRESINVB deciml_date\n",
      "PCE10 deciml_date\n",
      "RGDP10 deciml_date\n",
      "RR2_TBILL_CCPI_5 deciml_date\n",
      "RR1_TBILL_PGDP_6 deciml_date\n",
      "RECESS5 deciml_date\n",
      "RNRESINB deciml_date\n",
      "CORECPIC deciml_date\n",
      "UBAR deciml_date\n",
      "RR2_TBILL_CPI_5 deciml_date\n",
      "CPIC deciml_date\n",
      "PCEC deciml_date\n",
      "RR2_TBILL_CPCE_5 deciml_date\n",
      "INDPRODB deciml_date\n",
      "RR1_TBILL_PCE_6 deciml_date\n",
      "COREPCEC deciml_date\n",
      "PRUNEMP40 deciml_date\n",
      "pcef5 deciml_date\n",
      "RR1_TBILL_CCPI_6 deciml_date\n",
      "PCE5YR deciml_date\n",
      "SPR_BAA_AAAB deciml_date\n",
      "RGDPD deciml_date\n",
      "PGDPB deciml_date\n",
      "RCONSUMB deciml_date\n",
      "PRCPCE20 deciml_date\n",
      "SPR_Tbond_TbillD deciml_date\n",
      "REXPORTB deciml_date\n",
      "SPR_AAA_TBONDB deciml_date\n",
      "RR3_TBILL_CPI_5 deciml_date\n",
      "RR1_TBILL_CPCE_6 deciml_date\n",
      "BONDB deciml_date\n",
      "RR3_TBILL_PCE_5 deciml_date\n",
      "RR2_TBILL_PCE_5 deciml_date\n",
      "BILL10 deciml_date\n",
      "RSLGOVB deciml_date\n",
      "RR1_TBILL_CPI_6 deciml_date\n",
      "PROD10 deciml_date\n",
      "UNEMPD deciml_date\n",
      "TBILLD deciml_date\n",
      "RR3_TBILL_CPCE_5 deciml_date\n",
      "TBONDD deciml_date\n",
      "CPI5YR deciml_date\n",
      "PRGDP44 deciml_date\n",
      "RR3_TBILL_CCPI_5 deciml_date\n",
      "cpif5 deciml_date\n",
      "PRCCPI20 deciml_date\n",
      "BAABONDB deciml_date\n",
      "CPI10 deciml_date\n",
      "EMPB deciml_date\n",
      "PRPGDP20 deciml_date\n",
      "CPROFB deciml_date\n",
      "NGDPB deciml_date\n",
      "RCBIB deciml_date\n",
      "HOUSINGB deciml_date\n",
      "RR2_TBILL_PGDP_5 deciml_date\n",
      "STOCK10 deciml_date\n",
      "BOND10 deciml_date\n",
      "RR3_TBILL_PGDP_5 deciml_date\n",
      "RFEDGOVB deciml_date\n",
      "SPR_BAA_TBONDB deciml_date\n",
      "RRESINVB deciml_date\n",
      "PCE10 deciml_date\n",
      "RGDP10 deciml_date\n",
      "RR2_TBILL_CCPI_5 deciml_date\n",
      "RR1_TBILL_PGDP_6 deciml_date\n",
      "RECESS5 deciml_date\n",
      "RNRESINB deciml_date\n",
      "CORECPIC deciml_date\n",
      "UBAR deciml_date\n",
      "RR2_TBILL_CPI_5 deciml_date\n",
      "CPIC deciml_date\n",
      "PCEC deciml_date\n",
      "RR2_TBILL_CPCE_5 deciml_date\n",
      "INDPRODB deciml_date\n",
      "RR1_TBILL_PCE_6 deciml_date\n",
      "COREPCEC deciml_date\n",
      "PRUNEMP40 deciml_date\n",
      "pcef5 deciml_date\n",
      "RR1_TBILL_CCPI_6 deciml_date\n",
      "PCE5YR deciml_date\n",
      "SPR_BAA_AAAB deciml_date\n",
      "RGDPD deciml_date\n",
      "PGDPB deciml_date\n",
      "RCONSUMB deciml_date\n",
      "PRCPCE20 deciml_date\n",
      "SPR_Tbond_TbillD deciml_date\n",
      "REXPORTB deciml_date\n",
      "SPR_AAA_TBONDB deciml_date\n",
      "RR3_TBILL_CPI_5 deciml_date\n",
      "RR1_TBILL_CPCE_6 deciml_date\n",
      "BONDB deciml_date\n",
      "RR3_TBILL_PCE_5 deciml_date\n",
      "RR2_TBILL_PCE_5 deciml_date\n",
      "BILL10 deciml_date\n",
      "RSLGOVB deciml_date\n",
      "RR1_TBILL_CPI_6 deciml_date\n",
      "PROD10 deciml_date\n",
      "UNEMPD deciml_date\n",
      "TBILLD deciml_date\n",
      "RR3_TBILL_CPCE_5 deciml_date\n",
      "TBONDD deciml_date\n",
      "CPI5YR deciml_date\n",
      "PRGDP44 deciml_date\n",
      "RR3_TBILL_CCPI_5 deciml_date\n",
      "cpif5 deciml_date\n",
      "PRCCPI20 deciml_date\n",
      "BAABONDB deciml_date\n"
     ]
    }
   ],
   "source": [
    "#now lets do it for all the indicators\n",
    "indicators = []\n",
    "for key, value in cols.cols_dict.items():\n",
    "    tmp = Indicator(file=key, value_col=value)\n",
    "    tmp.source=\"PhillyFed\"\n",
    "    tmp.geoscope=\"USA\"\n",
    "    tmp.create_attribute(\"search_key\", \"{value_col}-{source}-{geoscope}\")\n",
    "    tmp.create_values()\n",
    "    indicators.append(tmp)"
   ]
  },
  {
   "cell_type": "code",
   "execution_count": 13,
   "metadata": {},
   "outputs": [],
   "source": [
    "#this object has a dictionary representation via orm method, \n",
    "#which can then be directly loaded into the DB via the ORM.\n",
    "f = indicators[10].orm()"
   ]
  },
  {
   "cell_type": "code",
   "execution_count": 15,
   "metadata": {},
   "outputs": [
    {
     "data": {
      "text/plain": [
       "'RR3_TBILL_PGDP_5-PhillyFed-USA'"
      ]
     },
     "execution_count": 15,
     "metadata": {},
     "output_type": "execute_result"
    }
   ],
   "source": [
    "f['search_key']"
   ]
  },
  {
   "cell_type": "code",
   "execution_count": null,
   "metadata": {},
   "outputs": [],
   "source": []
  }
 ],
 "metadata": {
  "kernelspec": {
   "display_name": "Python 3",
   "language": "python",
   "name": "python3"
  },
  "language_info": {
   "codemirror_mode": {
    "name": "ipython",
    "version": 3
   },
   "file_extension": ".py",
   "mimetype": "text/x-python",
   "name": "python",
   "nbconvert_exporter": "python",
   "pygments_lexer": "ipython3",
   "version": "3.7.3"
  }
 },
 "nbformat": 4,
 "nbformat_minor": 2
}
